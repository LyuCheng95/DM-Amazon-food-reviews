{
 "cells": [
  {
   "cell_type": "markdown",
   "metadata": {},
   "source": [
    "## preprocessing - (to3tuple)"
   ]
  },
  {
   "cell_type": "code",
   "execution_count": null,
   "metadata": {},
   "outputs": [],
   "source": [
    "import pandas as pd\n",
    "import numpy as np\n",
    "df = pd.read_csv('Reviews_sa.csv')\n",
    "df['score_with_sa'] = df['Score']-df['sa_compound_score']\n",
    "df"
   ]
  },
  {
   "cell_type": "code",
   "execution_count": null,
   "metadata": {},
   "outputs": [],
   "source": [
    "## generate ratings\n",
    "users = df['UserId'].unique()\n",
    "items = df['ProductId'].unique()\n",
    "users_dict = {users[i]:i for i in range(len(users))}\n",
    "items_dict = {items[i]:i for i in range(len(items))}\n",
    "intUserId = df.apply(lambda x: users_dict[x['UserId']], axis=1)\n",
    "intItemId = df.apply(lambda x: items_dict[x['ProductId']], axis=1)\n",
    "ratings = pd.concat([intUserId,intItemId,df['Score']], axis=1)\n",
    "ratings.to_csv('Ratings.csv', index=False, header=False)"
   ]
  },
  {
   "cell_type": "code",
   "execution_count": null,
   "metadata": {},
   "outputs": [],
   "source": [
    "df_vip = df[df.groupby('UserId').UserId.transform(len) > 1]\n",
    "df_vip5 = df[df.groupby('UserId').UserId.transform(len) > 5]"
   ]
  },
  {
   "cell_type": "code",
   "execution_count": null,
   "metadata": {},
   "outputs": [],
   "source": [
    "#remove users appears once and generate ratings\n",
    "users = df_vip['UserId'].unique()\n",
    "items = df_vip['ProductId'].unique()\n",
    "users_dict = {users[i]:i for i in range(len(users))}\n",
    "items_dict = {items[i]:i for i in range(len(items))}\n",
    "intUserId = df_vip.apply(lambda x: users_dict[x['UserId']], axis=1)\n",
    "intItemId = df_vip.apply(lambda x: items_dict[x['ProductId']], axis=1)\n",
    "ratings = pd.concat([intUserId,intItemId,df_vip['Score']], axis=1)\n",
    "ratings.to_csv('Ratings_vip.csv', index=False, header=False)\n",
    "print(df.size, df_vip.size)"
   ]
  },
  {
   "cell_type": "code",
   "execution_count": null,
   "metadata": {},
   "outputs": [],
   "source": [
    "# prepare for association rule\n",
    "bucket_dict = {}\n",
    "for index, row in df_vip.iterrows():\n",
    "    bucket_dict.setdefault(row[\"UserId\"], []).append(row[\"ProductId\"])"
   ]
  },
  {
   "cell_type": "code",
   "execution_count": null,
   "metadata": {},
   "outputs": [],
   "source": [
    "import csv\n",
    "import math\n",
    "import random\n",
    "bucketTrain = open(\"bucket_train.csv\",\"w\")\n",
    "bucketTest = open(\"bucket_test.csv\",\"w\")\n",
    "for key, val in bucket_dict.items():\n",
    "    if random.random()<0.1:\n",
    "        if len(val)>20:\n",
    "            bucketTest.write('\\n'+','.join(val[:20]))\n",
    "        if len(val)<20:\n",
    "            nans = ['NaN']*(20-len(val))\n",
    "            bucketTest.write('\\n'+','.join(val)+','+','.join(nans))\n",
    "    else:\n",
    "        if len(val)>20:\n",
    "            bucketTrain.write('\\n'+','.join(val[:20]))\n",
    "        if len(val)<20:\n",
    "            nans = ['NaN']*(20-len(val))\n",
    "            bucketTrain.write('\\n'+','.join(val)+','+','.join(nans))"
   ]
  },
  {
   "cell_type": "code",
   "execution_count": null,
   "metadata": {},
   "outputs": [],
   "source": [
    "# add in sentiment analysis\n",
    "users = df_vip['UserId'].unique()\n",
    "items = df_vip['ProductId'].unique()\n",
    "users_dict = {users[i]:i for i in range(len(users))}\n",
    "items_dict = {items[i]:i for i in range(len(items))}\n",
    "intUserId = df_vip.apply(lambda x: users_dict[x['UserId']], axis=1)\n",
    "intItemId = df_vip.apply(lambda x: items_dict[x['ProductId']], axis=1)\n",
    "ratings = pd.concat([intUserId,intItemId,df_vip['score_with_sa']], axis=1)\n",
    "ratings.to_csv('Ratings_vip_sa.csv', index=False, header=False)"
   ]
  },
  {
   "cell_type": "code",
   "execution_count": null,
   "metadata": {
    "scrolled": true
   },
   "outputs": [],
   "source": [
    "#moderate user scores based on user input and group input and generate ratings\n",
    "df_vip['AvgUserScore'] = df_vip['Score'].groupby(df_vip['UserId']).transform('mean')\n",
    "df_vip['AvgProductScore'] = df_vip['Score'].groupby(df_vip['ProductId']).transform('mean')\n",
    "df_vip['ModeratedScore'] = 0.75*df_vip['AvgUserScore'] + 0.25*df_vip['AvgProductScore']\n",
    "users = df_vip['UserId'].unique()\n",
    "items = df_vip['ProductId'].unique()\n",
    "users_dict = {users[i]:i for i in range(len(users))}\n",
    "items_dict = {items[i]:i for i in range(len(items))}\n",
    "intUserId = df_vip.apply(lambda x: users_dict[x['UserId']], axis=1)\n",
    "intItemId = df_vip.apply(lambda x: items_dict[x['ProductId']], axis=1)\n",
    "ratings = pd.concat([intUserId,intItemId,df_vip['ModeratedScore']], axis=1)\n",
    "ratings.to_csv('Ratings_vip_moderateS.csv', index=False, header=False)"
   ]
  },
  {
   "cell_type": "code",
   "execution_count": null,
   "metadata": {},
   "outputs": [],
   "source": [
    "#remove users appears once and generate ratings\n",
    "users = df_vip5['UserId'].unique()\n",
    "items = df_vip5['ProductId'].unique()\n",
    "users_dict = {users[i]:i for i in range(len(users))}\n",
    "items_dict = {items[i]:i for i in range(len(items))}\n",
    "intUserId = df_vip5.apply(lambda x: users_dict[x['UserId']], axis=1)\n",
    "intItemId = df_vip5.apply(lambda x: items_dict[x['ProductId']], axis=1)\n",
    "ratings = pd.concat([intUserId,intItemId,df_vip5['Score']], axis=1)\n",
    "ratings.to_csv('Ratings_vip.csv', index=False, header=False)\n",
    "print(df.size, df_vip5.size)\n",
    "# prepare for association rule\n",
    "bucket_dict = {}\n",
    "for index, row in df_vip5.iterrows():\n",
    "    bucket_dict.setdefault(row[\"UserId\"], []).append(row[\"ProductId\"])\n",
    "import csv\n",
    "import math\n",
    "import random\n",
    "bucketTrain = open(\"bucket_train.csv\",\"w\")\n",
    "bucketTest = open(\"bucket_test.csv\",\"w\")\n",
    "for key, val in bucket_dict.items():\n",
    "    if random.random()<0.1:\n",
    "        if len(val)>20:\n",
    "            bucketTest.write('\\n'+','.join(val[:20]))\n",
    "        if len(val)<20:\n",
    "            nans = ['NaN']*(20-len(val))\n",
    "            bucketTest.write('\\n'+','.join(val)+','+','.join(nans))\n",
    "    else:\n",
    "        if len(val)>20:\n",
    "            bucketTrain.write('\\n'+','.join(val[:20]))\n",
    "        if len(val)<20:\n",
    "            nans = ['NaN']*(20-len(val))\n",
    "            bucketTrain.write('\\n'+','.join(val)+','+','.join(nans))\n",
    "# add in sentiment analysis\n",
    "users = df_vip5['UserId'].unique()\n",
    "items = df_vip5['ProductId'].unique()\n",
    "users_dict = {users[i]:i for i in range(len(users))}\n",
    "items_dict = {items[i]:i for i in range(len(items))}\n",
    "intUserId = df_vip5.apply(lambda x: users_dict[x['UserId']], axis=1)\n",
    "intItemId = df_vip5.apply(lambda x: items_dict[x['ProductId']], axis=1)\n",
    "ratings = pd.concat([intUserId,intItemId,df_vip5['score_with_sa']], axis=1)\n",
    "ratings.to_csv('Ratings_vip_sa.csv', index=False, header=False)\n",
    "#moderate user scores based on user input and group input and generate ratings\n",
    "df_vip5['AvgUserScore'] = df_vip5['Score'].groupby(df_vip5['UserId']).transform('mean')\n",
    "df_vip5['AvgProductScore'] = df_vip5['Score'].groupby(df_vip5['ProductId']).transform('mean')\n",
    "df_vip5['ModeratedScore'] = 0.75*df_vip5['AvgUserScore'] + 0.25*df_vip5['AvgProductScore']\n",
    "users = df_vip5['UserId'].unique()\n",
    "items = df_vip5['ProductId'].unique()\n",
    "users_dict = {users[i]:i for i in range(len(users))}\n",
    "items_dict = {items[i]:i for i in range(len(items))}\n",
    "intUserId = df_vip5.apply(lambda x: users_dict[x['UserId']], axis=1)\n",
    "intItemId = df_vip5.apply(lambda x: items_dict[x['ProductId']], axis=1)\n",
    "ratings = pd.concat([intUserId,intItemId,df_vip5['ModeratedScore']], axis=1)\n",
    "ratings.to_csv('Ratings_vip_moderateS.csv', index=False, header=False)"
   ]
  }
 ],
 "metadata": {
  "kernelspec": {
   "display_name": "Python 3",
   "language": "python",
   "name": "python3"
  },
  "language_info": {
   "codemirror_mode": {
    "name": "ipython",
    "version": 3
   },
   "file_extension": ".py",
   "mimetype": "text/x-python",
   "name": "python",
   "nbconvert_exporter": "python",
   "pygments_lexer": "ipython3",
   "version": "3.7.6"
  }
 },
 "nbformat": 4,
 "nbformat_minor": 2
}
