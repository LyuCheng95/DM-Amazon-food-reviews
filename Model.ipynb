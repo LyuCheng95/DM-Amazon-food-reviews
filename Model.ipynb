{
 "cells": [
  {
   "cell_type": "code",
   "execution_count": 1,
   "metadata": {},
   "outputs": [],
   "source": [
    "import sys\n",
    "import arrow\n",
    "import numpy as np\n",
    "from numpy.linalg import norm\n",
    "\n",
    "class PMF(object):\n",
    "    '''\n",
    "    Probabilistic Matrix Factorization\n",
    "    '''\n",
    "\n",
    "    def __init__(self, n_feature, epsilon, lam, n_epoches, n_batches):\n",
    "        self.n_feature = n_feature  # number of features\n",
    "        self.epsilon   = epsilon    # epsilon for leanring rate\n",
    "        self.lam       = lam        # lambda for L2 regularization\n",
    "\n",
    "        self.n_epoches = n_epoches  # number of epoches\n",
    "        self.n_batches = n_batches  # number of batches\n",
    "\n",
    "        self.V = None # items feature matrix\n",
    "        self.U = None # users feature matrix\n",
    "        self.train_loss = []\n",
    "        self.test_loss = []\n",
    "        self.test_mse = []\n",
    "\n",
    "    def loss(self, ratings):\n",
    "        '''\n",
    "        Loss Function for evaluating matrix U and V\n",
    "        '''\n",
    "        errors = [\n",
    "            (float(r_ij) - np.dot(self.U[int(i)], self.V[int(j)].T))**2 + \\\n",
    "            self.lam * norm(self.U[int(i)]) + self.lam * norm(self.V[int(j)])\n",
    "            for i, j, r_ij in ratings]\n",
    "        return sum(errors)\n",
    "    \n",
    "    def squared_error(self, ratings):\n",
    "        return sum([(float(r_ij) - np.dot(self.U[int(i)], self.V[int(j)].T))**2 for i, j, r_ij in ratings ]) \n",
    "\n",
    "    def sgd_update(self, ratings):\n",
    "        '''\n",
    "        Update matrix U and V by Stochastic Gradient Descent.\n",
    "        '''\n",
    "        for i, j, r_ij in ratings:\n",
    "            i = int(i)\n",
    "            j = int(j)\n",
    "            r_ij_hat = np.dot(self.U[i], self.V[j].T)\n",
    "            grad_U_i = (r_ij_hat - float(r_ij)) * self.V[j] + self.lam * self.U[i]\n",
    "            grad_V_j = (r_ij_hat - float(r_ij)) * self.U[i] + self.lam * self.V[j]\n",
    "            self.U[i] = self.U[i] - self.epsilon * grad_U_i\n",
    "            self.V[j] = self.V[j] - self.epsilon * grad_V_j\n",
    "\n",
    "    def fit(self, train_ratings, test_ratings):\n",
    "        '''\n",
    "        Fit PMF model with respect to the ratings. A rating is a triple (user,\n",
    "        item, rating), in particular, user and item are integers to indicate\n",
    "        unique ids respectively, and rating is a real value score that associates\n",
    "        with corresponding user and item. For here, ratings is a numpy array\n",
    "        with shape (n, 3).\n",
    "\n",
    "        Params:\n",
    "        - train_ratings: ratings entries for training purpose\n",
    "        - test_ratings:  ratings entries for testing purpose\n",
    "        '''\n",
    "        # get number of training samples and testing samples\n",
    "        n_trains = train_ratings.shape[0]\n",
    "        n_tests  = test_ratings.shape[0]\n",
    "        # get number of items and number of users\n",
    "        n_users  = int(max(np.amax(train_ratings[:, 0]), np.amax(test_ratings[:, 0]))) + 1\n",
    "        n_items  = int(max(np.amax(train_ratings[:, 1]), np.amax(test_ratings[:, 1]))) + 1\n",
    "        # Initialization\n",
    "        if self.V is None or self.U is None:\n",
    "            self.e = 0\n",
    "            self.U = 0.1 * np.random.randn(n_users, self.n_feature)\n",
    "            self.V = 0.1 * np.random.randn(n_items, self.n_feature)\n",
    "        # training iterations over epoches\n",
    "        while self.e < self.n_epoches:\n",
    "            self.e += 1\n",
    "            # shuffle training samples\n",
    "            shuffled_order = np.arange(n_trains)\n",
    "            np.random.shuffle(shuffled_order)\n",
    "            # training iterations over batches\n",
    "            avg_train_loss = []\n",
    "            avg_test_loss  = []\n",
    "            batch_size     = int(n_trains / self.n_batches)\n",
    "            for batch in range(self.n_batches):\n",
    "                idx       = np.arange(batch_size * batch, batch_size * (batch + 1))\n",
    "                batch_idx = np.mod(idx, n_trains).astype('int32')\n",
    "                # training ratings selected in current batch\n",
    "                batch_ratings = train_ratings[shuffled_order[batch_idx], :]\n",
    "                # test ratings sample with the same size as the training batch\n",
    "                sample_test_ratings = test_ratings[np.random.choice(n_tests, batch_size), :]\n",
    "                # update U and V by sgd in a close-formed gradient\n",
    "                self.sgd_update(batch_ratings)\n",
    "                # loss for training and testing U, V and ratings\n",
    "                train_loss = self.loss(batch_ratings)\n",
    "                test_loss  = self.loss(sample_test_ratings)\n",
    "                avg_train_loss.append(train_loss)\n",
    "                avg_test_loss.append(test_loss)\n",
    "                \n",
    "            # training log ouput\n",
    "            rmse = (self.squared_error(test_ratings) / float(len(test_ratings)))**0.5\n",
    "            avg_train_loss = np.mean(avg_train_loss) / float(batch_size)\n",
    "            avg_test_loss  = np.mean(avg_test_loss) / float(batch_size)\n",
    "            self.train_loss.append(avg_train_loss)\n",
    "            self.test_loss.append(avg_test_loss)\n",
    "            self.test_mse.append(rmse)\n",
    "            print('[%s] Epoch %d' % (arrow.now(), self.e), file=sys.stderr)\n",
    "            print('[%s] Training loss:\\t%f' % (arrow.now(), avg_train_loss), file=sys.stderr)\n",
    "            print('[%s] Testing loss:\\t%f' % (arrow.now(), avg_test_loss), file=sys.stderr)\n",
    "            print('[%s] Testing MSE:\\t%f' % (arrow.now(), rmse), file=sys.stderr)\n",
    "\n"
   ]
  },
  {
   "cell_type": "code",
   "execution_count": 2,
   "metadata": {},
   "outputs": [],
   "source": [
    "import pandas as pd\n",
    "import numpy as np\n"
   ]
  },
  {
   "cell_type": "code",
   "execution_count": 3,
   "metadata": {},
   "outputs": [
    {
     "name": "stdout",
     "output_type": "stream",
     "text": [
      "training: (400000, 3)\n",
      "testing: (168453, 3)\n"
     ]
    },
    {
     "name": "stderr",
     "output_type": "stream",
     "text": [
      "[2020-03-19T10:34:14.709833+08:00] Epoch 1\n",
      "[2020-03-19T10:34:14.711069+08:00] Training loss:\t6.780393\n",
      "[2020-03-19T10:34:14.711834+08:00] Testing loss:\t15.379416\n",
      "[2020-03-19T10:34:14.713290+08:00] Testing MSE:\t12.073487\n",
      "[2020-03-19T10:35:25.775887+08:00] Epoch 2\n",
      "[2020-03-19T10:35:25.777882+08:00] Training loss:\t1.818375\n",
      "[2020-03-19T10:35:25.780228+08:00] Testing loss:\t12.285086\n",
      "[2020-03-19T10:35:25.781882+08:00] Testing MSE:\t11.538401\n",
      "[2020-03-19T10:36:40.772324+08:00] Epoch 3\n",
      "[2020-03-19T10:36:40.775316+08:00] Training loss:\t0.779181\n",
      "[2020-03-19T10:36:40.776089+08:00] Testing loss:\t11.918559\n",
      "[2020-03-19T10:36:40.781106+08:00] Testing MSE:\t11.389271\n",
      "[2020-03-19T10:37:50.953096+08:00] Epoch 4\n",
      "[2020-03-19T10:37:50.954700+08:00] Training loss:\t0.543854\n",
      "[2020-03-19T10:37:50.955663+08:00] Testing loss:\t11.797881\n",
      "[2020-03-19T10:37:50.955663+08:00] Testing MSE:\t11.321439\n",
      "[2020-03-19T10:39:07.853188+08:00] Epoch 5\n",
      "[2020-03-19T10:39:07.855006+08:00] Training loss:\t0.496274\n",
      "[2020-03-19T10:39:07.856172+08:00] Testing loss:\t11.755822\n",
      "[2020-03-19T10:39:07.857985+08:00] Testing MSE:\t11.276893\n",
      "[2020-03-19T10:40:13.833270+08:00] Epoch 6\n",
      "[2020-03-19T10:40:13.834875+08:00] Training loss:\t0.482716\n",
      "[2020-03-19T10:40:13.836816+08:00] Testing loss:\t11.668173\n",
      "[2020-03-19T10:40:13.838820+08:00] Testing MSE:\t11.238392\n",
      "[2020-03-19T10:41:27.377871+08:00] Epoch 7\n",
      "[2020-03-19T10:41:27.379056+08:00] Training loss:\t0.476789\n",
      "[2020-03-19T10:41:27.379872+08:00] Testing loss:\t11.658071\n",
      "[2020-03-19T10:41:27.379872+08:00] Testing MSE:\t11.202837\n",
      "[2020-03-19T10:42:45.508277+08:00] Epoch 8\n",
      "[2020-03-19T10:42:45.509287+08:00] Training loss:\t0.473218\n",
      "[2020-03-19T10:42:45.510285+08:00] Testing loss:\t11.644167\n",
      "[2020-03-19T10:42:45.511563+08:00] Testing MSE:\t11.172553\n",
      "[2020-03-19T10:43:37.158669+08:00] Epoch 9\n",
      "[2020-03-19T10:43:37.159667+08:00] Training loss:\t0.470655\n",
      "[2020-03-19T10:43:37.160667+08:00] Testing loss:\t11.621182\n",
      "[2020-03-19T10:43:37.160667+08:00] Testing MSE:\t11.146196\n",
      "[2020-03-19T10:44:11.710044+08:00] Epoch 10\n",
      "[2020-03-19T10:44:11.711046+08:00] Training loss:\t0.468538\n",
      "[2020-03-19T10:44:11.712044+08:00] Testing loss:\t11.534195\n",
      "[2020-03-19T10:44:11.712044+08:00] Testing MSE:\t11.116027\n"
     ]
    }
   ],
   "source": [
    "ratingsdf = pd.read_csv('Ratings.csv')\n",
    "ratings = ratingsdf.to_numpy()\n",
    "shuffled_order = np.arange(len(ratings))\n",
    "np.random.shuffle(shuffled_order)\n",
    "ratings        = ratings[shuffled_order]\n",
    "# cross validation\n",
    "train_ratings  = ratings[0:400000, :]\n",
    "test_ratings   = ratings[400000:, :]\n",
    "print('training:', train_ratings.shape)\n",
    "print('testing:', test_ratings.shape)\n",
    "pmf = PMF(n_feature=100, epsilon=0.1, lam=0.1, n_epoches=10, n_batches=1000)\n",
    "pmf.fit(train_ratings, test_ratings)"
   ]
  },
  {
   "cell_type": "code",
   "execution_count": 20,
   "metadata": {},
   "outputs": [
    {
     "name": "stdout",
     "output_type": "stream",
     "text": [
      "[6.729354528016873, 1.8082611907490977, 0.7689597407673103, 0.5401297620315872, 0.4943961919805513, 0.4815152163207784, 0.47595262520939763, 0.47260138777063504, 0.4699093500104911, 0.46788568989275575] [15.349498571388464, 12.17599957140731, 11.844380552343269, 11.700514457789566, 11.66930942465255, 11.580442196924352, 11.544197865707474, 11.53765454042004, 11.504669326633145, 11.455365849341392] [11.984511639642276, 11.439358607707467, 11.297403086995843, 11.22775551851176, 11.184261532449614, 11.139401752555917, 11.108293667630136, 11.07483079587502, 11.04586903170292, 11.019710121190576]\n"
     ]
    },
    {
     "data": {
      "image/png": "[encoded data removed]",
      "text/plain": [
       "<Figure size 432x288 with 1 Axes>"
      ]
     },
     "metadata": {
      "needs_background": "light"
     },
     "output_type": "display_data"
    }
   ],
   "source": [
    "import matplotlib.pyplot as plt\n",
    "print(pmf.train_loss, pmf.test_loss, pmf.test_mse)\n",
    "plt.plot(pmf.train_loss)\n",
    "plt.plot(pmf.test_loss)\n",
    "plt.plot(pmf.test_mse)\n",
    "\n",
    "plt.ylabel('loss')\n",
    "plt.show()"
   ]
  },
  {
   "cell_type": "code",
   "execution_count": 45,
   "metadata": {},
   "outputs": [
    {
     "name": "stdout",
     "output_type": "stream",
     "text": [
      "training: (300000, 3)\n",
      "testing: (93062, 3)\n"
     ]
    },
    {
     "name": "stderr",
     "output_type": "stream",
     "text": [
      "[2020-03-05T16:12:51.679943+08:00] Epoch 1\n",
      "[2020-03-05T16:12:51.679943+08:00] Training loss:\t5.140001\n",
      "[2020-03-05T16:12:51.679943+08:00] Testing loss:\t12.465479\n",
      "[2020-03-05T16:12:51.679943+08:00] Testing MSE:\t7.749849\n",
      "[2020-03-05T16:13:13.294310+08:00] Epoch 2\n",
      "[2020-03-05T16:13:13.295308+08:00] Training loss:\t1.114807\n",
      "[2020-03-05T16:13:13.295308+08:00] Testing loss:\t7.734725\n",
      "[2020-03-05T16:13:13.296305+08:00] Testing MSE:\t6.737732\n",
      "[2020-03-05T16:13:40.173455+08:00] Epoch 3\n",
      "[2020-03-05T16:13:40.174453+08:00] Training loss:\t0.577669\n",
      "[2020-03-05T16:13:40.174453+08:00] Testing loss:\t7.141840\n",
      "[2020-03-05T16:13:40.174453+08:00] Testing MSE:\t6.593993\n",
      "[2020-03-05T16:13:57.612875+08:00] Epoch 4\n",
      "[2020-03-05T16:13:57.613872+08:00] Training loss:\t0.492684\n",
      "[2020-03-05T16:13:57.613872+08:00] Testing loss:\t6.996447\n",
      "[2020-03-05T16:13:57.613872+08:00] Testing MSE:\t6.467844\n",
      "[2020-03-05T16:14:16.152315+08:00] Epoch 5\n",
      "[2020-03-05T16:14:16.153311+08:00] Training loss:\t0.474507\n",
      "[2020-03-05T16:14:16.154308+08:00] Testing loss:\t6.889809\n",
      "[2020-03-05T16:14:16.154308+08:00] Testing MSE:\t6.399260\n",
      "[2020-03-05T16:14:35.876617+08:00] Epoch 6\n",
      "[2020-03-05T16:14:35.876617+08:00] Training loss:\t0.468450\n",
      "[2020-03-05T16:14:35.876617+08:00] Testing loss:\t6.799660\n",
      "[2020-03-05T16:14:35.876617+08:00] Testing MSE:\t6.332339\n",
      "[2020-03-05T16:14:55.902050+08:00] Epoch 7\n",
      "[2020-03-05T16:14:55.902050+08:00] Training loss:\t0.464856\n",
      "[2020-03-05T16:14:55.902050+08:00] Testing loss:\t6.781358\n",
      "[2020-03-05T16:14:55.902050+08:00] Testing MSE:\t6.275015\n",
      "[2020-03-05T16:15:16.447127+08:00] Epoch 8\n",
      "[2020-03-05T16:15:16.447127+08:00] Training loss:\t0.462228\n",
      "[2020-03-05T16:15:16.448125+08:00] Testing loss:\t6.705500\n",
      "[2020-03-05T16:15:16.448125+08:00] Testing MSE:\t6.219112\n",
      "[2020-03-05T16:15:32.754535+08:00] Epoch 9\n",
      "[2020-03-05T16:15:32.754535+08:00] Training loss:\t0.460066\n",
      "[2020-03-05T16:15:32.754535+08:00] Testing loss:\t6.643206\n",
      "[2020-03-05T16:15:32.754535+08:00] Testing MSE:\t6.166348\n",
      "[2020-03-05T16:15:48.549350+08:00] Epoch 10\n",
      "[2020-03-05T16:15:48.550348+08:00] Training loss:\t0.458166\n",
      "[2020-03-05T16:15:48.550348+08:00] Testing loss:\t6.589355\n",
      "[2020-03-05T16:15:48.550348+08:00] Testing MSE:\t6.114382\n"
     ]
    }
   ],
   "source": [
    "# try Ratings_vip_moderateS.csv\n",
    "ratingsdf = pd.read_csv('Ratings_vip_moderateS.csv')\n",
    "ratings = ratingsdf.to_numpy()\n",
    "shuffled_order = np.arange(len(ratings))\n",
    "np.random.shuffle(shuffled_order)\n",
    "ratings        = ratings[shuffled_order]\n",
    "# cross validation\n",
    "train_ratings  = ratings[0:300000, :]\n",
    "test_ratings   = ratings[300000:, :]\n",
    "print('training:', train_ratings.shape)\n",
    "print('testing:', test_ratings.shape)\n",
    "pmf = PMF(n_feature=100, epsilon=0.1, lam=0.1, n_epoches=10, n_batches=1000)\n",
    "pmf.fit(train_ratings, test_ratings)"
   ]
  },
  {
   "cell_type": "code",
   "execution_count": 47,
   "metadata": {},
   "outputs": [
    {
     "name": "stdout",
     "output_type": "stream",
     "text": [
      "[5.14000117350638, 1.1148067295316346, 0.5776694131337967, 0.49268351729029886, 0.47450742625139697, 0.4684502329072774, 0.4648560703891457, 0.4622284601016978, 0.4600659344779705, 0.45816569538668206] [12.46547892520831, 7.734725218533011, 7.141840131439326, 6.996447352024931, 6.889808571048644, 6.799660073071595, 6.781357762681441, 6.705500155903765, 6.643206293954012, 6.589354966447117] [7.749849454138211, 6.737731777224344, 6.593993495914206, 6.467844227016015, 6.39926037078911, 6.332338832317441, 6.2750151352991095, 6.219112482134953, 6.16634790254793, 6.114382325464348]\n"
     ]
    },
    {
     "data": {
      "image/png": "[encoded data removed]",
      "text/plain": [
       "<Figure size 432x288 with 1 Axes>"
      ]
     },
     "metadata": {
      "needs_background": "light"
     },
     "output_type": "display_data"
    }
   ],
   "source": [
    "import matplotlib.pyplot as plt\n",
    "print(pmf.train_loss, pmf.test_loss, pmf.test_mse)\n",
    "plt.plot(pmf.train_loss)\n",
    "plt.plot(pmf.test_loss)\n",
    "plt.plot(pmf.test_mse)\n",
    "\n",
    "plt.ylabel('loss')\n",
    "plt.show()"
   ]
  },
  {
   "cell_type": "code",
   "execution_count": 5,
   "metadata": {},
   "outputs": [
    {
     "name": "stdout",
     "output_type": "stream",
     "text": [
      "training: (300000, 3)\n",
      "testing: (93062, 3)\n"
     ]
    },
    {
     "name": "stderr",
     "output_type": "stream",
     "text": [
      "[2020-03-19T10:57:09.472518+08:00] Epoch 1\n",
      "[2020-03-19T10:57:09.472518+08:00] Training loss:\t4.139345\n",
      "[2020-03-19T10:57:09.472518+08:00] Testing loss:\t9.787242\n",
      "[2020-03-19T10:57:09.472518+08:00] Testing MSE:\t6.276367\n",
      "[2020-03-19T10:57:32.583737+08:00] Epoch 2\n",
      "[2020-03-19T10:57:32.583737+08:00] Training loss:\t1.024951\n",
      "[2020-03-19T10:57:32.583737+08:00] Testing loss:\t6.265730\n",
      "[2020-03-19T10:57:32.583737+08:00] Testing MSE:\t5.416068\n",
      "[2020-03-19T10:57:55.032499+08:00] Epoch 3\n",
      "[2020-03-19T10:57:55.034501+08:00] Training loss:\t0.537299\n",
      "[2020-03-19T10:57:55.034501+08:00] Testing loss:\t5.784373\n",
      "[2020-03-19T10:57:55.035498+08:00] Testing MSE:\t5.310723\n",
      "[2020-03-19T10:58:20.427500+08:00] Epoch 4\n",
      "[2020-03-19T10:58:20.428497+08:00] Training loss:\t0.464151\n",
      "[2020-03-19T10:58:20.428497+08:00] Testing loss:\t5.710638\n",
      "[2020-03-19T10:58:20.428497+08:00] Testing MSE:\t5.222860\n",
      "[2020-03-19T10:59:01.614921+08:00] Epoch 5\n",
      "[2020-03-19T10:59:01.619919+08:00] Training loss:\t0.449652\n",
      "[2020-03-19T10:59:01.619919+08:00] Testing loss:\t5.620885\n",
      "[2020-03-19T10:59:01.620918+08:00] Testing MSE:\t5.172821\n",
      "[2020-03-19T10:59:27.526080+08:00] Epoch 6\n",
      "[2020-03-19T10:59:27.528083+08:00] Training loss:\t0.444698\n",
      "[2020-03-19T10:59:27.528083+08:00] Testing loss:\t5.589793\n",
      "[2020-03-19T10:59:27.528083+08:00] Testing MSE:\t5.128494\n",
      "[2020-03-19T10:59:54.306165+08:00] Epoch 7\n",
      "[2020-03-19T10:59:54.307167+08:00] Training loss:\t0.441492\n",
      "[2020-03-19T10:59:54.308167+08:00] Testing loss:\t5.511563\n",
      "[2020-03-19T10:59:54.308167+08:00] Testing MSE:\t5.085265\n",
      "[2020-03-19T11:00:16.115167+08:00] Epoch 8\n",
      "[2020-03-19T11:00:16.116167+08:00] Training loss:\t0.439088\n",
      "[2020-03-19T11:00:16.117167+08:00] Testing loss:\t5.487733\n",
      "[2020-03-19T11:00:16.118166+08:00] Testing MSE:\t5.052491\n",
      "[2020-03-19T11:00:40.041167+08:00] Epoch 9\n",
      "[2020-03-19T11:00:40.043167+08:00] Training loss:\t0.437095\n",
      "[2020-03-19T11:00:40.043167+08:00] Testing loss:\t5.473310\n",
      "[2020-03-19T11:00:40.045167+08:00] Testing MSE:\t5.017114\n",
      "[2020-03-19T11:01:08.333216+08:00] Epoch 10\n",
      "[2020-03-19T11:01:08.334217+08:00] Training loss:\t0.435422\n",
      "[2020-03-19T11:01:08.334217+08:00] Testing loss:\t5.401640\n",
      "[2020-03-19T11:01:08.334217+08:00] Testing MSE:\t4.982878\n"
     ]
    },
    {
     "name": "stdout",
     "output_type": "stream",
     "text": [
      "[4.139345418514663, 1.0249506485899014, 0.5372993960494835, 0.4641506765857102, 0.4496524975305897, 0.4446979292979522, 0.44149213942771437, 0.4390876910403811, 0.4370952792360106, 0.43542165449701664] [9.787241760370195, 6.265729530849655, 5.784373237492563, 5.710638171889968, 5.620884698552332, 5.589793129784601, 5.511563322383129, 5.48773314785975, 5.473310108357879, 5.401639987425319] [6.276366913836662, 5.416067917991074, 5.310722675984075, 5.222860442198129, 5.172820734538798, 5.128493921256843, 5.085265130421476, 5.0524909236275635, 5.017114169330066, 4.982878030998066]\n"
     ]
    },
    {
     "data": {
      "image/png": "[encoded data removed]",
      "text/plain": [
       "<Figure size 432x288 with 1 Axes>"
      ]
     },
     "metadata": {
      "needs_background": "light"
     },
     "output_type": "display_data"
    }
   ],
   "source": [
    "# try Ratings_vip_sa.csv\n",
    "ratingsdf = pd.read_csv('Ratings_vip_sa.csv')\n",
    "ratings = ratingsdf.to_numpy()\n",
    "shuffled_order = np.arange(len(ratings))\n",
    "np.random.shuffle(shuffled_order)\n",
    "ratings        = ratings[shuffled_order]\n",
    "# cross validation\n",
    "train_ratings  = ratings[0:300000, :]\n",
    "test_ratings   = ratings[300000:, :]\n",
    "print('training:', train_ratings.shape)\n",
    "print('testing:', test_ratings.shape)\n",
    "pmf = PMF(n_feature=100, epsilon=0.1, lam=0.1, n_epoches=10, n_batches=1000)\n",
    "pmf.fit(train_ratings, test_ratings)\n",
    "import matplotlib.pyplot as plt\n",
    "print(pmf.train_loss, pmf.test_loss, pmf.test_mse)\n",
    "plt.plot(pmf.train_loss)\n",
    "plt.plot(pmf.test_loss)\n",
    "plt.plot(pmf.test_mse)\n",
    "\n",
    "plt.ylabel('loss')\n",
    "plt.show()"
   ]
  },
  {
   "cell_type": "code",
   "execution_count": null,
   "metadata": {},
   "outputs": [],
   "source": []
  }
 ],
 "metadata": {
  "kernelspec": {
   "display_name": "Python 3",
   "language": "python",
   "name": "python3"
  },
  "language_info": {
   "codemirror_mode": {
    "name": "ipython",
    "version": 3
   },
   "file_extension": ".py",
   "mimetype": "text/x-python",
   "name": "python",
   "nbconvert_exporter": "python",
   "pygments_lexer": "ipython3",
   "version": "3.7.6"
  }
 },
 "nbformat": 4,
 "nbformat_minor": 2
}
