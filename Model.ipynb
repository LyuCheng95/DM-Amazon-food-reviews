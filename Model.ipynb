{
 "cells": [
  {
   "cell_type": "code",
   "execution_count": 16,
   "metadata": {},
   "outputs": [],
   "source": [
    "import sys\n",
    "import arrow\n",
    "import numpy as np\n",
    "from numpy.linalg import norm\n",
    "\n",
    "class PMF(object):\n",
    "    '''\n",
    "    Probabilistic Matrix Factorization\n",
    "    '''\n",
    "\n",
    "    def __init__(self, n_feature, epsilon, lam, n_epoches, n_batches):\n",
    "        self.n_feature = n_feature  # number of features\n",
    "        self.epsilon   = epsilon    # epsilon for leanring rate\n",
    "        self.lam       = lam        # lambda for L2 regularization\n",
    "\n",
    "        self.n_epoches = n_epoches  # number of epoches\n",
    "        self.n_batches = n_batches  # number of batches\n",
    "\n",
    "        self.V = None # items feature matrix\n",
    "        self.U = None # users feature matrix\n",
    "        self.train_loss = []\n",
    "        self.test_loss = []\n",
    "        self.test_mse = []\n",
    "\n",
    "    def loss(self, ratings):\n",
    "        '''\n",
    "        Loss Function for evaluating matrix U and V\n",
    "        '''\n",
    "        errors = [\n",
    "            (float(r_ij) - np.dot(self.U[int(i)], self.V[int(j)].T))**2 + \\\n",
    "            self.lam * norm(self.U[int(i)]) + self.lam * norm(self.V[int(j)])\n",
    "            for i, j, r_ij in ratings]\n",
    "        return sum(errors)\n",
    "    \n",
    "    def squared_error(self, ratings):\n",
    "        return sum([(float(r_ij) - np.dot(self.U[int(i)], self.V[int(j)].T))**2 for i, j, r_ij in ratings ]) \n",
    "\n",
    "    def sgd_update(self, ratings):\n",
    "        '''\n",
    "        Update matrix U and V by Stochastic Gradient Descent.\n",
    "        '''\n",
    "        for i, j, r_ij in ratings:\n",
    "            i = int(i)\n",
    "            j = int(j)\n",
    "            r_ij_hat = np.dot(self.U[i], self.V[j].T)\n",
    "            grad_U_i = (r_ij_hat - float(r_ij)) * self.V[j] + self.lam * self.U[i]\n",
    "            grad_V_j = (r_ij_hat - float(r_ij)) * self.U[i] + self.lam * self.V[j]\n",
    "            self.U[i] = self.U[i] - self.epsilon * grad_U_i\n",
    "            self.V[j] = self.V[j] - self.epsilon * grad_V_j\n",
    "\n",
    "    def fit(self, train_ratings, test_ratings):\n",
    "        '''\n",
    "        Fit PMF model with respect to the ratings. A rating is a triple (user,\n",
    "        item, rating), in particular, user and item are integers to indicate\n",
    "        unique ids respectively, and rating is a real value score that associates\n",
    "        with corresponding user and item. For here, ratings is a numpy array\n",
    "        with shape (n, 3).\n",
    "\n",
    "        Params:\n",
    "        - train_ratings: ratings entries for training purpose\n",
    "        - test_ratings:  ratings entries for testing purpose\n",
    "        '''\n",
    "        # get number of training samples and testing samples\n",
    "        n_trains = train_ratings.shape[0]\n",
    "        n_tests  = test_ratings.shape[0]\n",
    "        # get number of items and number of users\n",
    "        n_users  = int(max(np.amax(train_ratings[:, 0]), np.amax(test_ratings[:, 0]))) + 1\n",
    "        n_items  = int(max(np.amax(train_ratings[:, 1]), np.amax(test_ratings[:, 1]))) + 1\n",
    "        # Initialization\n",
    "        if self.V is None or self.U is None:\n",
    "            self.e = 0\n",
    "            self.U = 0.1 * np.random.randn(n_users, self.n_feature)\n",
    "            self.V = 0.1 * np.random.randn(n_items, self.n_feature)\n",
    "        # training iterations over epoches\n",
    "        while self.e < self.n_epoches:\n",
    "            self.e += 1\n",
    "            # shuffle training samples\n",
    "            shuffled_order = np.arange(n_trains)\n",
    "            np.random.shuffle(shuffled_order)\n",
    "            # training iterations over batches\n",
    "            avg_train_loss = []\n",
    "            avg_test_loss  = []\n",
    "            batch_size     = int(n_trains / self.n_batches)\n",
    "            for batch in range(self.n_batches):\n",
    "                idx       = np.arange(batch_size * batch, batch_size * (batch + 1))\n",
    "                batch_idx = np.mod(idx, n_trains).astype('int32')\n",
    "                # training ratings selected in current batch\n",
    "                batch_ratings = train_ratings[shuffled_order[batch_idx], :]\n",
    "                # test ratings sample with the same size as the training batch\n",
    "                sample_test_ratings = test_ratings[np.random.choice(n_tests, batch_size), :]\n",
    "                # update U and V by sgd in a close-formed gradient\n",
    "                self.sgd_update(batch_ratings)\n",
    "                # loss for training and testing U, V and ratings\n",
    "                train_loss = self.loss(batch_ratings)\n",
    "                test_loss  = self.loss(sample_test_ratings)\n",
    "                avg_train_loss.append(train_loss)\n",
    "                avg_test_loss.append(test_loss)\n",
    "                \n",
    "            # training log ouput\n",
    "            rmse = (self.squared_error(test_ratings) / float(len(test_ratings)))\n",
    "            avg_train_loss = np.mean(avg_train_loss) / float(batch_size)\n",
    "            avg_test_loss  = np.mean(avg_test_loss) / float(batch_size)\n",
    "            self.train_loss.append(avg_train_loss)\n",
    "            self.test_loss.append(avg_test_loss)\n",
    "            self.test_mse.append(rmse)\n",
    "            print('[%s] Epoch %d' % (arrow.now(), self.e), file=sys.stderr)\n",
    "            print('[%s] Training loss:\\t%f' % (arrow.now(), avg_train_loss), file=sys.stderr)\n",
    "            print('[%s] Testing loss:\\t%f' % (arrow.now(), avg_test_loss), file=sys.stderr)\n",
    "            print('[%s] Testing MSE:\\t%f' % (arrow.now(), rmse), file=sys.stderr)\n",
    "\n"
   ]
  },
  {
   "cell_type": "code",
   "execution_count": 2,
   "metadata": {},
   "outputs": [],
   "source": [
    "import pandas as pd\n",
    "import numpy as np\n"
   ]
  },
  {
   "cell_type": "code",
   "execution_count": 3,
   "metadata": {},
   "outputs": [
    {
     "name": "stdout",
     "output_type": "stream",
     "text": [
      "training: (400000, 3)\n",
      "testing: (168453, 3)\n"
     ]
    },
    {
     "name": "stderr",
     "output_type": "stream",
     "text": [
      "[2020-03-19T10:34:14.709833+08:00] Epoch 1\n",
      "[2020-03-19T10:34:14.711069+08:00] Training loss:\t6.780393\n",
      "[2020-03-19T10:34:14.711834+08:00] Testing loss:\t15.379416\n",
      "[2020-03-19T10:34:14.713290+08:00] Testing MSE:\t12.073487\n",
      "[2020-03-19T10:35:25.775887+08:00] Epoch 2\n",
      "[2020-03-19T10:35:25.777882+08:00] Training loss:\t1.818375\n",
      "[2020-03-19T10:35:25.780228+08:00] Testing loss:\t12.285086\n",
      "[2020-03-19T10:35:25.781882+08:00] Testing MSE:\t11.538401\n",
      "[2020-03-19T10:36:40.772324+08:00] Epoch 3\n",
      "[2020-03-19T10:36:40.775316+08:00] Training loss:\t0.779181\n",
      "[2020-03-19T10:36:40.776089+08:00] Testing loss:\t11.918559\n",
      "[2020-03-19T10:36:40.781106+08:00] Testing MSE:\t11.389271\n",
      "[2020-03-19T10:37:50.953096+08:00] Epoch 4\n",
      "[2020-03-19T10:37:50.954700+08:00] Training loss:\t0.543854\n",
      "[2020-03-19T10:37:50.955663+08:00] Testing loss:\t11.797881\n",
      "[2020-03-19T10:37:50.955663+08:00] Testing MSE:\t11.321439\n",
      "[2020-03-19T10:39:07.853188+08:00] Epoch 5\n",
      "[2020-03-19T10:39:07.855006+08:00] Training loss:\t0.496274\n",
      "[2020-03-19T10:39:07.856172+08:00] Testing loss:\t11.755822\n",
      "[2020-03-19T10:39:07.857985+08:00] Testing MSE:\t11.276893\n",
      "[2020-03-19T10:40:13.833270+08:00] Epoch 6\n",
      "[2020-03-19T10:40:13.834875+08:00] Training loss:\t0.482716\n",
      "[2020-03-19T10:40:13.836816+08:00] Testing loss:\t11.668173\n",
      "[2020-03-19T10:40:13.838820+08:00] Testing MSE:\t11.238392\n",
      "[2020-03-19T10:41:27.377871+08:00] Epoch 7\n",
      "[2020-03-19T10:41:27.379056+08:00] Training loss:\t0.476789\n",
      "[2020-03-19T10:41:27.379872+08:00] Testing loss:\t11.658071\n",
      "[2020-03-19T10:41:27.379872+08:00] Testing MSE:\t11.202837\n",
      "[2020-03-19T10:42:45.508277+08:00] Epoch 8\n",
      "[2020-03-19T10:42:45.509287+08:00] Training loss:\t0.473218\n",
      "[2020-03-19T10:42:45.510285+08:00] Testing loss:\t11.644167\n",
      "[2020-03-19T10:42:45.511563+08:00] Testing MSE:\t11.172553\n",
      "[2020-03-19T10:43:37.158669+08:00] Epoch 9\n",
      "[2020-03-19T10:43:37.159667+08:00] Training loss:\t0.470655\n",
      "[2020-03-19T10:43:37.160667+08:00] Testing loss:\t11.621182\n",
      "[2020-03-19T10:43:37.160667+08:00] Testing MSE:\t11.146196\n",
      "[2020-03-19T10:44:11.710044+08:00] Epoch 10\n",
      "[2020-03-19T10:44:11.711046+08:00] Training loss:\t0.468538\n",
      "[2020-03-19T10:44:11.712044+08:00] Testing loss:\t11.534195\n",
      "[2020-03-19T10:44:11.712044+08:00] Testing MSE:\t11.116027\n"
     ]
    }
   ],
   "source": [
    "ratingsdf = pd.read_csv('Ratings.csv')\n",
    "ratings = ratingsdf.to_numpy()\n",
    "shuffled_order = np.arange(len(ratings))\n",
    "np.random.shuffle(shuffled_order)\n",
    "ratings        = ratings[shuffled_order]\n",
    "# cross validation\n",
    "train_ratings  = ratings[0:400000, :]\n",
    "test_ratings   = ratings[400000:, :]\n",
    "print('training:', train_ratings.shape)\n",
    "print('testing:', test_ratings.shape)\n",
    "pmf = PMF(n_feature=100, epsilon=0.1, lam=0.1, n_epoches=10, n_batches=1000)\n",
    "pmf.fit(train_ratings, test_ratings)"
   ]
  },
  {
   "cell_type": "code",
   "execution_count": 20,
   "metadata": {},
   "outputs": [
    {
     "name": "stdout",
     "output_type": "stream",
     "text": [
      "[6.729354528016873, 1.8082611907490977, 0.7689597407673103, 0.5401297620315872, 0.4943961919805513, 0.4815152163207784, 0.47595262520939763, 0.47260138777063504, 0.4699093500104911, 0.46788568989275575] [15.349498571388464, 12.17599957140731, 11.844380552343269, 11.700514457789566, 11.66930942465255, 11.580442196924352, 11.544197865707474, 11.53765454042004, 11.504669326633145, 11.455365849341392] [11.984511639642276, 11.439358607707467, 11.297403086995843, 11.22775551851176, 11.184261532449614, 11.139401752555917, 11.108293667630136, 11.07483079587502, 11.04586903170292, 11.019710121190576]\n"
     ]
    },
    {
     "data": {
      "image/png": "[encoded data removed]",
      "text/plain": [
       "<Figure size 432x288 with 1 Axes>"
      ]
     },
     "metadata": {
      "needs_background": "light"
     },
     "output_type": "display_data"
    }
   ],
   "source": [
    "import matplotlib.pyplot as plt\n",
    "print(pmf.train_loss, pmf.test_loss, pmf.test_mse)\n",
    "plt.plot(pmf.train_loss)\n",
    "plt.plot(pmf.test_loss)\n",
    "plt.plot(pmf.test_mse)\n",
    "\n",
    "plt.ylabel('loss')\n",
    "plt.show()"
   ]
  },
  {
   "cell_type": "code",
   "execution_count": 15,
   "metadata": {},
   "outputs": [
    {
     "name": "stdout",
     "output_type": "stream",
     "text": [
      "training: (300000, 3)\n",
      "testing: (93062, 3)\n"
     ]
    },
    {
     "name": "stderr",
     "output_type": "stream",
     "text": [
      "[2020-03-24T20:48:56.200560+08:00] Epoch 1\n",
      "[2020-03-24T20:48:56.201560+08:00] Training loss:\t5.616665\n",
      "[2020-03-24T20:48:56.201560+08:00] Testing loss:\t13.152806\n",
      "[2020-03-24T20:48:56.201560+08:00] Testing MSE:\t8.372250\n",
      "[2020-03-24T20:49:13.316561+08:00] Epoch 2\n",
      "[2020-03-24T20:49:13.317561+08:00] Training loss:\t1.267388\n",
      "[2020-03-24T20:49:13.317561+08:00] Testing loss:\t8.403944\n",
      "[2020-03-24T20:49:13.317561+08:00] Testing MSE:\t7.407635\n",
      "[2020-03-24T20:49:30.579562+08:00] Epoch 3\n",
      "[2020-03-24T20:49:30.580559+08:00] Training loss:\t0.638006\n",
      "[2020-03-24T20:49:30.580559+08:00] Testing loss:\t7.812134\n",
      "[2020-03-24T20:49:30.580559+08:00] Testing MSE:\t7.237569\n",
      "[2020-03-24T20:49:47.643560+08:00] Epoch 4\n",
      "[2020-03-24T20:49:47.644562+08:00] Training loss:\t0.520112\n",
      "[2020-03-24T20:49:47.644562+08:00] Testing loss:\t7.644977\n",
      "[2020-03-24T20:49:47.644562+08:00] Testing MSE:\t7.123404\n",
      "[2020-03-24T20:50:04.732547+08:00] Epoch 5\n",
      "[2020-03-24T20:50:04.732547+08:00] Training loss:\t0.493282\n",
      "[2020-03-24T20:50:04.733547+08:00] Testing loss:\t7.569510\n",
      "[2020-03-24T20:50:04.733547+08:00] Testing MSE:\t7.051216\n",
      "[2020-03-24T20:50:21.877547+08:00] Epoch 6\n",
      "[2020-03-24T20:50:21.878544+08:00] Training loss:\t0.484335\n",
      "[2020-03-24T20:50:21.878544+08:00] Testing loss:\t7.486709\n",
      "[2020-03-24T20:50:21.878544+08:00] Testing MSE:\t6.988790\n",
      "[2020-03-24T20:50:39.105545+08:00] Epoch 7\n",
      "[2020-03-24T20:50:39.106546+08:00] Training loss:\t0.479647\n",
      "[2020-03-24T20:50:39.106546+08:00] Testing loss:\t7.480379\n",
      "[2020-03-24T20:50:39.106546+08:00] Testing MSE:\t6.936389\n",
      "[2020-03-24T20:50:56.195548+08:00] Epoch 8\n",
      "[2020-03-24T20:50:56.195548+08:00] Training loss:\t0.476678\n",
      "[2020-03-24T20:50:56.195548+08:00] Testing loss:\t7.383803\n",
      "[2020-03-24T20:50:56.196546+08:00] Testing MSE:\t6.890260\n",
      "[2020-03-24T20:51:13.200545+08:00] Epoch 9\n",
      "[2020-03-24T20:51:13.201545+08:00] Training loss:\t0.474320\n",
      "[2020-03-24T20:51:13.201545+08:00] Testing loss:\t7.336211\n",
      "[2020-03-24T20:51:13.201545+08:00] Testing MSE:\t6.845776\n"
     ]
    },
    {
     "name": "stdout",
     "output_type": "stream",
     "text": [
      "[5.616665081398074, 1.2673882686422613, 0.6380056620545604, 0.5201116060552248, 0.49328172297552036, 0.48433508099552275, 0.4796467232515559, 0.476678004669743, 0.47432020483263027, 0.47234401356864897] [13.152805825006881, 8.403943750396316, 7.812134428968671, 7.644977147014579, 7.569509776795777, 7.486709033991289, 7.48037947910712, 7.3838033764954325, 7.336210912714398, 7.2914535534382] [8.37225019257814, 7.407634669173425, 7.237568676811039, 7.123404248933608, 7.0512161552810415, 6.988789730649114, 6.936388609490865, 6.890259632937702, 6.845775866781216, 6.803991680871429]\n"
     ]
    },
    {
     "name": "stderr",
     "output_type": "stream",
     "text": [
      "[2020-03-24T20:51:30.298545+08:00] Epoch 10\n",
      "[2020-03-24T20:51:30.299546+08:00] Training loss:\t0.472344\n",
      "[2020-03-24T20:51:30.299546+08:00] Testing loss:\t7.291454\n",
      "[2020-03-24T20:51:30.299546+08:00] Testing MSE:\t6.803992\n"
     ]
    },
    {
     "data": {
      "image/png": "[encoded data removed]",
      "text/plain": [
       "<Figure size 432x288 with 1 Axes>"
      ]
     },
     "metadata": {
      "needs_background": "light"
     },
     "output_type": "display_data"
    }
   ],
   "source": [
    "ratingsdf = pd.read_csv('Ratings_vip.csv')\n",
    "ratings = ratingsdf.to_numpy()\n",
    "shuffled_order = np.arange(len(ratings))\n",
    "np.random.shuffle(shuffled_order)\n",
    "ratings        = ratings[shuffled_order]\n",
    "# cross validation\n",
    "train_ratings  = ratings[0:300000, :]\n",
    "test_ratings   = ratings[300000:, :]\n",
    "print('training:', train_ratings.shape)\n",
    "print('testing:', test_ratings.shape)\n",
    "pmf = PMF(n_feature=100, epsilon=0.1, lam=0.1, n_epoches=10, n_batches=1000)\n",
    "pmf.fit(train_ratings, test_ratings)\n",
    "import matplotlib.pyplot as plt\n",
    "print(pmf.train_loss, pmf.test_loss, pmf.test_mse)\n",
    "plt.plot(pmf.train_loss)\n",
    "plt.plot(pmf.test_loss)\n",
    "plt.plot(pmf.test_mse)\n",
    "\n",
    "plt.ylabel('loss')\n",
    "plt.show()"
   ]
  },
  {
   "cell_type": "code",
   "execution_count": 45,
   "metadata": {},
   "outputs": [
    {
     "name": "stdout",
     "output_type": "stream",
     "text": [
      "training: (300000, 3)\n",
      "testing: (93062, 3)\n"
     ]
    },
    {
     "name": "stderr",
     "output_type": "stream",
     "text": [
      "[2020-03-05T16:12:51.679943+08:00] Epoch 1\n",
      "[2020-03-05T16:12:51.679943+08:00] Training loss:\t5.140001\n",
      "[2020-03-05T16:12:51.679943+08:00] Testing loss:\t12.465479\n",
      "[2020-03-05T16:12:51.679943+08:00] Testing MSE:\t7.749849\n",
      "[2020-03-05T16:13:13.294310+08:00] Epoch 2\n",
      "[2020-03-05T16:13:13.295308+08:00] Training loss:\t1.114807\n",
      "[2020-03-05T16:13:13.295308+08:00] Testing loss:\t7.734725\n",
      "[2020-03-05T16:13:13.296305+08:00] Testing MSE:\t6.737732\n",
      "[2020-03-05T16:13:40.173455+08:00] Epoch 3\n",
      "[2020-03-05T16:13:40.174453+08:00] Training loss:\t0.577669\n",
      "[2020-03-05T16:13:40.174453+08:00] Testing loss:\t7.141840\n",
      "[2020-03-05T16:13:40.174453+08:00] Testing MSE:\t6.593993\n",
      "[2020-03-05T16:13:57.612875+08:00] Epoch 4\n",
      "[2020-03-05T16:13:57.613872+08:00] Training loss:\t0.492684\n",
      "[2020-03-05T16:13:57.613872+08:00] Testing loss:\t6.996447\n",
      "[2020-03-05T16:13:57.613872+08:00] Testing MSE:\t6.467844\n",
      "[2020-03-05T16:14:16.152315+08:00] Epoch 5\n",
      "[2020-03-05T16:14:16.153311+08:00] Training loss:\t0.474507\n",
      "[2020-03-05T16:14:16.154308+08:00] Testing loss:\t6.889809\n",
      "[2020-03-05T16:14:16.154308+08:00] Testing MSE:\t6.399260\n",
      "[2020-03-05T16:14:35.876617+08:00] Epoch 6\n",
      "[2020-03-05T16:14:35.876617+08:00] Training loss:\t0.468450\n",
      "[2020-03-05T16:14:35.876617+08:00] Testing loss:\t6.799660\n",
      "[2020-03-05T16:14:35.876617+08:00] Testing MSE:\t6.332339\n",
      "[2020-03-05T16:14:55.902050+08:00] Epoch 7\n",
      "[2020-03-05T16:14:55.902050+08:00] Training loss:\t0.464856\n",
      "[2020-03-05T16:14:55.902050+08:00] Testing loss:\t6.781358\n",
      "[2020-03-05T16:14:55.902050+08:00] Testing MSE:\t6.275015\n",
      "[2020-03-05T16:15:16.447127+08:00] Epoch 8\n",
      "[2020-03-05T16:15:16.447127+08:00] Training loss:\t0.462228\n",
      "[2020-03-05T16:15:16.448125+08:00] Testing loss:\t6.705500\n",
      "[2020-03-05T16:15:16.448125+08:00] Testing MSE:\t6.219112\n",
      "[2020-03-05T16:15:32.754535+08:00] Epoch 9\n",
      "[2020-03-05T16:15:32.754535+08:00] Training loss:\t0.460066\n",
      "[2020-03-05T16:15:32.754535+08:00] Testing loss:\t6.643206\n",
      "[2020-03-05T16:15:32.754535+08:00] Testing MSE:\t6.166348\n",
      "[2020-03-05T16:15:48.549350+08:00] Epoch 10\n",
      "[2020-03-05T16:15:48.550348+08:00] Training loss:\t0.458166\n",
      "[2020-03-05T16:15:48.550348+08:00] Testing loss:\t6.589355\n",
      "[2020-03-05T16:15:48.550348+08:00] Testing MSE:\t6.114382\n"
     ]
    }
   ],
   "source": [
    "# try Ratings_vip_moderateS.csv\n",
    "ratingsdf = pd.read_csv('Ratings_vip_moderateS.csv')\n",
    "ratings = ratingsdf.to_numpy()\n",
    "shuffled_order = np.arange(len(ratings))\n",
    "np.random.shuffle(shuffled_order)\n",
    "ratings        = ratings[shuffled_order]\n",
    "# cross validation\n",
    "train_ratings  = ratings[0:300000, :]\n",
    "test_ratings   = ratings[300000:, :]\n",
    "print('training:', train_ratings.shape)\n",
    "print('testing:', test_ratings.shape)\n",
    "pmf = PMF(n_feature=100, epsilon=0.1, lam=0.1, n_epoches=10, n_batches=1000)\n",
    "pmf.fit(train_ratings, test_ratings)"
   ]
  },
  {
   "cell_type": "code",
   "execution_count": 47,
   "metadata": {},
   "outputs": [
    {
     "name": "stdout",
     "output_type": "stream",
     "text": [
      "[5.14000117350638, 1.1148067295316346, 0.5776694131337967, 0.49268351729029886, 0.47450742625139697, 0.4684502329072774, 0.4648560703891457, 0.4622284601016978, 0.4600659344779705, 0.45816569538668206] [12.46547892520831, 7.734725218533011, 7.141840131439326, 6.996447352024931, 6.889808571048644, 6.799660073071595, 6.781357762681441, 6.705500155903765, 6.643206293954012, 6.589354966447117] [7.749849454138211, 6.737731777224344, 6.593993495914206, 6.467844227016015, 6.39926037078911, 6.332338832317441, 6.2750151352991095, 6.219112482134953, 6.16634790254793, 6.114382325464348]\n"
     ]
    },
    {
     "data": {
      "image/png": "[encoded data removed]",
      "text/plain": [
       "<Figure size 432x288 with 1 Axes>"
      ]
     },
     "metadata": {
      "needs_background": "light"
     },
     "output_type": "display_data"
    }
   ],
   "source": [
    "import matplotlib.pyplot as plt\n",
    "print(pmf.train_loss, pmf.test_loss, pmf.test_mse)\n",
    "plt.plot(pmf.train_loss)\n",
    "plt.plot(pmf.test_loss)\n",
    "plt.plot(pmf.test_mse)\n",
    "\n",
    "plt.ylabel('loss')\n",
    "plt.show()"
   ]
  },
  {
   "cell_type": "code",
   "execution_count": 5,
   "metadata": {},
   "outputs": [
    {
     "name": "stdout",
     "output_type": "stream",
     "text": [
      "training: (300000, 3)\n",
      "testing: (93062, 3)\n"
     ]
    },
    {
     "name": "stderr",
     "output_type": "stream",
     "text": [
      "[2020-03-19T10:57:09.472518+08:00] Epoch 1\n",
      "[2020-03-19T10:57:09.472518+08:00] Training loss:\t4.139345\n",
      "[2020-03-19T10:57:09.472518+08:00] Testing loss:\t9.787242\n",
      "[2020-03-19T10:57:09.472518+08:00] Testing MSE:\t6.276367\n",
      "[2020-03-19T10:57:32.583737+08:00] Epoch 2\n",
      "[2020-03-19T10:57:32.583737+08:00] Training loss:\t1.024951\n",
      "[2020-03-19T10:57:32.583737+08:00] Testing loss:\t6.265730\n",
      "[2020-03-19T10:57:32.583737+08:00] Testing MSE:\t5.416068\n",
      "[2020-03-19T10:57:55.032499+08:00] Epoch 3\n",
      "[2020-03-19T10:57:55.034501+08:00] Training loss:\t0.537299\n",
      "[2020-03-19T10:57:55.034501+08:00] Testing loss:\t5.784373\n",
      "[2020-03-19T10:57:55.035498+08:00] Testing MSE:\t5.310723\n",
      "[2020-03-19T10:58:20.427500+08:00] Epoch 4\n",
      "[2020-03-19T10:58:20.428497+08:00] Training loss:\t0.464151\n",
      "[2020-03-19T10:58:20.428497+08:00] Testing loss:\t5.710638\n",
      "[2020-03-19T10:58:20.428497+08:00] Testing MSE:\t5.222860\n",
      "[2020-03-19T10:59:01.614921+08:00] Epoch 5\n",
      "[2020-03-19T10:59:01.619919+08:00] Training loss:\t0.449652\n",
      "[2020-03-19T10:59:01.619919+08:00] Testing loss:\t5.620885\n",
      "[2020-03-19T10:59:01.620918+08:00] Testing MSE:\t5.172821\n",
      "[2020-03-19T10:59:27.526080+08:00] Epoch 6\n",
      "[2020-03-19T10:59:27.528083+08:00] Training loss:\t0.444698\n",
      "[2020-03-19T10:59:27.528083+08:00] Testing loss:\t5.589793\n",
      "[2020-03-19T10:59:27.528083+08:00] Testing MSE:\t5.128494\n",
      "[2020-03-19T10:59:54.306165+08:00] Epoch 7\n",
      "[2020-03-19T10:59:54.307167+08:00] Training loss:\t0.441492\n",
      "[2020-03-19T10:59:54.308167+08:00] Testing loss:\t5.511563\n",
      "[2020-03-19T10:59:54.308167+08:00] Testing MSE:\t5.085265\n",
      "[2020-03-19T11:00:16.115167+08:00] Epoch 8\n",
      "[2020-03-19T11:00:16.116167+08:00] Training loss:\t0.439088\n",
      "[2020-03-19T11:00:16.117167+08:00] Testing loss:\t5.487733\n",
      "[2020-03-19T11:00:16.118166+08:00] Testing MSE:\t5.052491\n",
      "[2020-03-19T11:00:40.041167+08:00] Epoch 9\n",
      "[2020-03-19T11:00:40.043167+08:00] Training loss:\t0.437095\n",
      "[2020-03-19T11:00:40.043167+08:00] Testing loss:\t5.473310\n",
      "[2020-03-19T11:00:40.045167+08:00] Testing MSE:\t5.017114\n",
      "[2020-03-19T11:01:08.333216+08:00] Epoch 10\n",
      "[2020-03-19T11:01:08.334217+08:00] Training loss:\t0.435422\n",
      "[2020-03-19T11:01:08.334217+08:00] Testing loss:\t5.401640\n",
      "[2020-03-19T11:01:08.334217+08:00] Testing MSE:\t4.982878\n"
     ]
    },
    {
     "name": "stdout",
     "output_type": "stream",
     "text": [
      "[4.139345418514663, 1.0249506485899014, 0.5372993960494835, 0.4641506765857102, 0.4496524975305897, 0.4446979292979522, 0.44149213942771437, 0.4390876910403811, 0.4370952792360106, 0.43542165449701664] [9.787241760370195, 6.265729530849655, 5.784373237492563, 5.710638171889968, 5.620884698552332, 5.589793129784601, 5.511563322383129, 5.48773314785975, 5.473310108357879, 5.401639987425319] [6.276366913836662, 5.416067917991074, 5.310722675984075, 5.222860442198129, 5.172820734538798, 5.128493921256843, 5.085265130421476, 5.0524909236275635, 5.017114169330066, 4.982878030998066]\n"
     ]
    },
    {
     "data": {
      "image/png": "[encoded data removed]",
      "text/plain": [
       "<Figure size 432x288 with 1 Axes>"
      ]
     },
     "metadata": {
      "needs_background": "light"
     },
     "output_type": "display_data"
    }
   ],
   "source": [
    "# try Ratings_vip_sa.csv\n",
    "ratingsdf = pd.read_csv('Ratings_vip_sa.csv')\n",
    "ratings = ratingsdf.to_numpy()\n",
    "shuffled_order = np.arange(len(ratings))\n",
    "np.random.shuffle(shuffled_order)\n",
    "ratings        = ratings[shuffled_order]\n",
    "# cross validation\n",
    "train_ratings  = ratings[0:300000, :]\n",
    "test_ratings   = ratings[300000:, :]\n",
    "print('training:', train_ratings.shape)\n",
    "print('testing:', test_ratings.shape)\n",
    "pmf = PMF(n_feature=100, epsilon=0.1, lam=0.1, n_epoches=10, n_batches=1000)\n",
    "pmf.fit(train_ratings, test_ratings)\n",
    "import matplotlib.pyplot as plt\n",
    "print(pmf.train_loss, pmf.test_loss, pmf.test_mse)\n",
    "plt.plot(pmf.train_loss)\n",
    "plt.plot(pmf.test_loss)\n",
    "plt.plot(pmf.test_mse)\n",
    "\n",
    "plt.ylabel('loss')\n",
    "plt.show()"
   ]
  },
  {
   "cell_type": "code",
   "execution_count": 17,
   "metadata": {},
   "outputs": [
    {
     "name": "stdout",
     "output_type": "stream",
     "text": [
      "training: (200000, 3)\n",
      "testing: (16821, 3)\n"
     ]
    },
    {
     "name": "stderr",
     "output_type": "stream",
     "text": [
      "[2020-03-24T21:04:28.128233+08:00] Epoch 1\n",
      "[2020-03-24T21:04:28.128233+08:00] Training loss:\t3.898360\n",
      "[2020-03-24T21:04:28.128233+08:00] Testing loss:\t10.224364\n",
      "[2020-03-24T21:04:28.128233+08:00] Testing MSE:\t5.234704\n",
      "[2020-03-24T21:04:38.981239+08:00] Epoch 2\n",
      "[2020-03-24T21:04:38.982240+08:00] Training loss:\t0.814158\n",
      "[2020-03-24T21:04:38.982240+08:00] Testing loss:\t5.371048\n",
      "[2020-03-24T21:04:38.982240+08:00] Testing MSE:\t4.543915\n",
      "[2020-03-24T21:04:49.817230+08:00] Epoch 3\n",
      "[2020-03-24T21:04:49.818230+08:00] Training loss:\t0.557581\n",
      "[2020-03-24T21:04:49.818230+08:00] Testing loss:\t4.951599\n",
      "[2020-03-24T21:04:49.818230+08:00] Testing MSE:\t4.401464\n",
      "[2020-03-24T21:05:00.626230+08:00] Epoch 4\n",
      "[2020-03-24T21:05:00.626230+08:00] Training loss:\t0.505579\n",
      "[2020-03-24T21:05:00.626230+08:00] Testing loss:\t4.804378\n",
      "[2020-03-24T21:05:00.626230+08:00] Testing MSE:\t4.286847\n",
      "[2020-03-24T21:05:11.415231+08:00] Epoch 5\n",
      "[2020-03-24T21:05:11.416230+08:00] Training loss:\t0.490680\n",
      "[2020-03-24T21:05:11.416230+08:00] Testing loss:\t4.701897\n",
      "[2020-03-24T21:05:11.416230+08:00] Testing MSE:\t4.220502\n",
      "[2020-03-24T21:05:22.220232+08:00] Epoch 6\n",
      "[2020-03-24T21:05:22.221234+08:00] Training loss:\t0.484424\n",
      "[2020-03-24T21:05:22.221234+08:00] Testing loss:\t4.685288\n",
      "[2020-03-24T21:05:22.221234+08:00] Testing MSE:\t4.137431\n",
      "[2020-03-24T21:05:33.127245+08:00] Epoch 7\n",
      "[2020-03-24T21:05:33.127245+08:00] Training loss:\t0.480354\n",
      "[2020-03-24T21:05:33.127245+08:00] Testing loss:\t4.571619\n",
      "[2020-03-24T21:05:33.127245+08:00] Testing MSE:\t4.077663\n",
      "[2020-03-24T21:05:44.004269+08:00] Epoch 8\n",
      "[2020-03-24T21:05:44.004269+08:00] Training loss:\t0.477425\n",
      "[2020-03-24T21:05:44.005273+08:00] Testing loss:\t4.510350\n",
      "[2020-03-24T21:05:44.005273+08:00] Testing MSE:\t4.034163\n",
      "[2020-03-24T21:05:54.847292+08:00] Epoch 9\n",
      "[2020-03-24T21:05:54.847292+08:00] Training loss:\t0.474915\n",
      "[2020-03-24T21:05:54.847292+08:00] Testing loss:\t4.488533\n",
      "[2020-03-24T21:05:54.848292+08:00] Testing MSE:\t3.989180\n"
     ]
    },
    {
     "name": "stdout",
     "output_type": "stream",
     "text": [
      "[3.8983597422415386, 0.81415813445842, 0.5575807923333838, 0.5055789173376982, 0.4906795047573562, 0.48442441899139005, 0.48035385578840833, 0.47742482695312183, 0.47491535585407063, 0.4728060904737383] [10.224363900585193, 5.37104816011941, 4.951599125569699, 4.804377937523168, 4.701897227944104, 4.685288218538139, 4.571618842068345, 4.510350051964815, 4.488532531544564, 4.433548450556644] [5.234704065468968, 4.543915449924992, 4.401464132307998, 4.286847415609364, 4.2205020286331685, 4.137430956356776, 4.077663391049727, 4.0341634952643535, 3.9891800180054817, 3.9297474853809438]\n"
     ]
    },
    {
     "name": "stderr",
     "output_type": "stream",
     "text": [
      "[2020-03-24T21:06:05.693303+08:00] Epoch 10\n",
      "[2020-03-24T21:06:05.694301+08:00] Training loss:\t0.472806\n",
      "[2020-03-24T21:06:05.694301+08:00] Testing loss:\t4.433548\n",
      "[2020-03-24T21:06:05.694301+08:00] Testing MSE:\t3.929747\n"
     ]
    },
    {
     "data": {
      "image/png": "[encoded data removed]",
      "text/plain": [
       "<Figure size 432x288 with 1 Axes>"
      ]
     },
     "metadata": {
      "needs_background": "light"
     },
     "output_type": "display_data"
    }
   ],
   "source": [
    "import pandas as pd\n",
    "import numpy as np\n",
    "# try Ratings_vip_moderateS.csv\n",
    "ratingsdf = pd.read_csv('Ratings_vip5.csv')\n",
    "ratings = ratingsdf.to_numpy()\n",
    "shuffled_order = np.arange(len(ratings))\n",
    "np.random.shuffle(shuffled_order)\n",
    "ratings        = ratings[shuffled_order]\n",
    "# cross validation\n",
    "train_ratings  = ratings[0:200000, :]\n",
    "test_ratings   = ratings[200000:, :]\n",
    "print('training:', train_ratings.shape)\n",
    "print('testing:', test_ratings.shape)\n",
    "pmf = PMF(n_feature=100, epsilon=0.1, lam=0.1, n_epoches=10, n_batches=1000)\n",
    "pmf.fit(train_ratings, test_ratings)\n",
    "import matplotlib.pyplot as plt\n",
    "print(pmf.train_loss, pmf.test_loss, pmf.test_mse)\n",
    "plt.plot(pmf.train_loss)\n",
    "plt.plot(pmf.test_loss)\n",
    "plt.plot(pmf.test_mse)\n",
    "\n",
    "plt.ylabel('loss')\n",
    "plt.show()"
   ]
  },
  {
   "cell_type": "code",
   "execution_count": 18,
   "metadata": {},
   "outputs": [
    {
     "name": "stdout",
     "output_type": "stream",
     "text": [
      "training: (200000, 3)\n",
      "testing: (16821, 3)\n"
     ]
    },
    {
     "name": "stderr",
     "output_type": "stream",
     "text": [
      "[2020-03-24T21:06:17.134300+08:00] Epoch 1\n",
      "[2020-03-24T21:06:17.134300+08:00] Training loss:\t3.437051\n",
      "[2020-03-24T21:06:17.134300+08:00] Testing loss:\t9.472310\n",
      "[2020-03-24T21:06:17.134300+08:00] Testing MSE:\t4.618422\n",
      "[2020-03-24T21:06:28.130300+08:00] Epoch 2\n",
      "[2020-03-24T21:06:28.131301+08:00] Training loss:\t0.663876\n",
      "[2020-03-24T21:06:28.131301+08:00] Testing loss:\t4.743144\n",
      "[2020-03-24T21:06:28.131301+08:00] Testing MSE:\t3.845523\n",
      "[2020-03-24T21:06:39.146300+08:00] Epoch 3\n",
      "[2020-03-24T21:06:39.146300+08:00] Training loss:\t0.500599\n",
      "[2020-03-24T21:06:39.146300+08:00] Testing loss:\t4.267542\n",
      "[2020-03-24T21:06:39.146300+08:00] Testing MSE:\t3.741664\n",
      "[2020-03-24T21:06:50.143305+08:00] Epoch 4\n",
      "[2020-03-24T21:06:50.144301+08:00] Training loss:\t0.473006\n",
      "[2020-03-24T21:06:50.144301+08:00] Testing loss:\t4.143528\n",
      "[2020-03-24T21:06:50.144301+08:00] Testing MSE:\t3.617119\n",
      "[2020-03-24T21:07:01.177339+08:00] Epoch 5\n",
      "[2020-03-24T21:07:01.178338+08:00] Training loss:\t0.464648\n",
      "[2020-03-24T21:07:01.178338+08:00] Testing loss:\t4.045982\n",
      "[2020-03-24T21:07:01.178338+08:00] Testing MSE:\t3.542589\n",
      "[2020-03-24T21:07:12.267338+08:00] Epoch 6\n",
      "[2020-03-24T21:07:12.267338+08:00] Training loss:\t0.460076\n",
      "[2020-03-24T21:07:12.268338+08:00] Testing loss:\t3.952304\n",
      "[2020-03-24T21:07:12.268338+08:00] Testing MSE:\t3.466882\n",
      "[2020-03-24T21:07:23.386337+08:00] Epoch 7\n",
      "[2020-03-24T21:07:23.386337+08:00] Training loss:\t0.456720\n",
      "[2020-03-24T21:07:23.386337+08:00] Testing loss:\t3.896069\n",
      "[2020-03-24T21:07:23.386337+08:00] Testing MSE:\t3.400825\n",
      "[2020-03-24T21:07:34.452103+08:00] Epoch 8\n",
      "[2020-03-24T21:07:34.453107+08:00] Training loss:\t0.453975\n",
      "[2020-03-24T21:07:34.453107+08:00] Testing loss:\t3.813877\n",
      "[2020-03-24T21:07:34.453107+08:00] Testing MSE:\t3.338397\n",
      "[2020-03-24T21:07:45.490412+08:00] Epoch 9\n",
      "[2020-03-24T21:07:45.490412+08:00] Training loss:\t0.451651\n",
      "[2020-03-24T21:07:45.490412+08:00] Testing loss:\t3.753997\n",
      "[2020-03-24T21:07:45.491412+08:00] Testing MSE:\t3.280511\n"
     ]
    },
    {
     "name": "stdout",
     "output_type": "stream",
     "text": [
      "[3.437051356531552, 0.6638757822806797, 0.5005991714749137, 0.47300608559308294, 0.4646484770107556, 0.46007648043833976, 0.45671957030066146, 0.4539751684785325, 0.4516510370421241, 0.44962557003423237] [9.472309613422597, 4.743143808998493, 4.267542212436312, 4.143527974648685, 4.045981985737141, 3.9523035441029126, 3.8960692338502803, 3.813876704435683, 3.753996888962537, 3.6773386628164433] [4.618422047610477, 3.845523152948711, 3.741664061949046, 3.617119345207062, 3.5425885479004426, 3.4668819838522866, 3.4008247481166243, 3.338396893950641, 3.2805108333501005, 3.2254924877745297]\n"
     ]
    },
    {
     "name": "stderr",
     "output_type": "stream",
     "text": [
      "[2020-03-24T21:07:56.601844+08:00] Epoch 10\n",
      "[2020-03-24T21:07:56.601844+08:00] Training loss:\t0.449626\n",
      "[2020-03-24T21:07:56.601844+08:00] Testing loss:\t3.677339\n",
      "[2020-03-24T21:07:56.601844+08:00] Testing MSE:\t3.225492\n"
     ]
    },
    {
     "data": {
      "image/png": "[encoded data removed]",
      "text/plain": [
       "<Figure size 432x288 with 1 Axes>"
      ]
     },
     "metadata": {
      "needs_background": "light"
     },
     "output_type": "display_data"
    }
   ],
   "source": [
    "import pandas as pd\n",
    "import numpy as np\n",
    "# try Ratings_vip_moderateS.csv\n",
    "ratingsdf = pd.read_csv('Ratings_vip5_moderateS.csv')\n",
    "ratings = ratingsdf.to_numpy()\n",
    "shuffled_order = np.arange(len(ratings))\n",
    "np.random.shuffle(shuffled_order)\n",
    "ratings        = ratings[shuffled_order]\n",
    "# cross validation\n",
    "train_ratings  = ratings[0:200000, :]\n",
    "test_ratings   = ratings[200000:, :]\n",
    "print('training:', train_ratings.shape)\n",
    "print('testing:', test_ratings.shape)\n",
    "pmf = PMF(n_feature=100, epsilon=0.1, lam=0.1, n_epoches=10, n_batches=1000)\n",
    "pmf.fit(train_ratings, test_ratings)\n",
    "import matplotlib.pyplot as plt\n",
    "print(pmf.train_loss, pmf.test_loss, pmf.test_mse)\n",
    "plt.plot(pmf.train_loss)\n",
    "plt.plot(pmf.test_loss)\n",
    "plt.plot(pmf.test_mse)\n",
    "\n",
    "plt.ylabel('loss')\n",
    "plt.show()"
   ]
  },
  {
   "cell_type": "code",
   "execution_count": 19,
   "metadata": {},
   "outputs": [
    {
     "name": "stdout",
     "output_type": "stream",
     "text": [
      "training: (200000, 3)\n",
      "testing: (16821, 3)\n"
     ]
    },
    {
     "name": "stderr",
     "output_type": "stream",
     "text": [
      "[2020-03-24T21:08:08.040581+08:00] Epoch 1\n",
      "[2020-03-24T21:08:08.041579+08:00] Training loss:\t2.941424\n",
      "[2020-03-24T21:08:08.041579+08:00] Testing loss:\t7.620409\n",
      "[2020-03-24T21:08:08.041579+08:00] Testing MSE:\t3.988130\n",
      "[2020-03-24T21:08:18.971580+08:00] Epoch 2\n",
      "[2020-03-24T21:08:18.972580+08:00] Training loss:\t0.628920\n",
      "[2020-03-24T21:08:18.972580+08:00] Testing loss:\t4.070777\n",
      "[2020-03-24T21:08:18.972580+08:00] Testing MSE:\t3.300951\n",
      "[2020-03-24T21:08:29.982581+08:00] Epoch 3\n",
      "[2020-03-24T21:08:29.982581+08:00] Training loss:\t0.471886\n",
      "[2020-03-24T21:08:29.982581+08:00] Testing loss:\t3.733662\n",
      "[2020-03-24T21:08:29.982581+08:00] Testing MSE:\t3.224922\n",
      "[2020-03-24T21:08:40.980580+08:00] Epoch 4\n",
      "[2020-03-24T21:08:40.980580+08:00] Training loss:\t0.453883\n",
      "[2020-03-24T21:08:40.980580+08:00] Testing loss:\t3.624387\n",
      "[2020-03-24T21:08:40.981582+08:00] Testing MSE:\t3.133953\n",
      "[2020-03-24T21:08:52.047867+08:00] Epoch 5\n",
      "[2020-03-24T21:08:52.048875+08:00] Training loss:\t0.447772\n",
      "[2020-03-24T21:08:52.048875+08:00] Testing loss:\t3.538716\n",
      "[2020-03-24T21:08:52.048875+08:00] Testing MSE:\t3.086064\n",
      "[2020-03-24T21:09:03.086879+08:00] Epoch 6\n",
      "[2020-03-24T21:09:03.087880+08:00] Training loss:\t0.444008\n",
      "[2020-03-24T21:09:03.087880+08:00] Testing loss:\t3.491135\n",
      "[2020-03-24T21:09:03.087880+08:00] Testing MSE:\t3.031754\n",
      "[2020-03-24T21:09:14.026879+08:00] Epoch 7\n",
      "[2020-03-24T21:09:14.026879+08:00] Training loss:\t0.441092\n",
      "[2020-03-24T21:09:14.026879+08:00] Testing loss:\t3.417869\n",
      "[2020-03-24T21:09:14.026879+08:00] Testing MSE:\t2.987423\n",
      "[2020-03-24T21:09:24.977879+08:00] Epoch 8\n",
      "[2020-03-24T21:09:24.977879+08:00] Training loss:\t0.438857\n",
      "[2020-03-24T21:09:24.977879+08:00] Testing loss:\t3.397897\n",
      "[2020-03-24T21:09:24.977879+08:00] Testing MSE:\t2.949455\n",
      "[2020-03-24T21:09:35.961895+08:00] Epoch 9\n",
      "[2020-03-24T21:09:35.961895+08:00] Training loss:\t0.436873\n",
      "[2020-03-24T21:09:35.962895+08:00] Testing loss:\t3.367591\n",
      "[2020-03-24T21:09:35.962895+08:00] Testing MSE:\t2.903941\n"
     ]
    },
    {
     "name": "stdout",
     "output_type": "stream",
     "text": [
      "[2.9414239967056743, 0.62891990400776, 0.47188560912162586, 0.4538832852298129, 0.4477721971114258, 0.44400784959824185, 0.44109197091401875, 0.438857155816874, 0.43687333557293756, 0.4351609094748739] [7.6204090371424105, 4.0707773382238805, 3.7336624201950697, 3.6243874884930873, 3.5387160381229914, 3.491134749526064, 3.4178685413392844, 3.397897093625172, 3.3675908617077552, 3.3136305208345735] [3.9881302909923364, 3.3009510141679024, 3.2249224174087465, 3.1339526455644897, 3.08606425333953, 3.031753962128283, 2.9874225429017853, 2.9494554311116423, 2.903941194133862, 2.873904560560439]\n"
     ]
    },
    {
     "name": "stderr",
     "output_type": "stream",
     "text": [
      "[2020-03-24T21:09:46.953311+08:00] Epoch 10\n",
      "[2020-03-24T21:09:46.953311+08:00] Training loss:\t0.435161\n",
      "[2020-03-24T21:09:46.953311+08:00] Testing loss:\t3.313631\n",
      "[2020-03-24T21:09:46.954311+08:00] Testing MSE:\t2.873905\n"
     ]
    },
    {
     "data": {
      "image/png": "[encoded data removed]",
      "text/plain": [
       "<Figure size 432x288 with 1 Axes>"
      ]
     },
     "metadata": {
      "needs_background": "light"
     },
     "output_type": "display_data"
    }
   ],
   "source": [
    "# try Ratings_vip_sa.csv\n",
    "ratingsdf = pd.read_csv('Ratings_vip5_sa.csv')\n",
    "ratings = ratingsdf.to_numpy()\n",
    "shuffled_order = np.arange(len(ratings))\n",
    "np.random.shuffle(shuffled_order)\n",
    "ratings        = ratings[shuffled_order]\n",
    "# cross validation\n",
    "train_ratings  = ratings[0:200000, :]\n",
    "test_ratings   = ratings[200000:, :]\n",
    "print('training:', train_ratings.shape)\n",
    "print('testing:', test_ratings.shape)\n",
    "pmf = PMF(n_feature=100, epsilon=0.1, lam=0.1, n_epoches=10, n_batches=1000)\n",
    "pmf.fit(train_ratings, test_ratings)\n",
    "import matplotlib.pyplot as plt\n",
    "print(pmf.train_loss, pmf.test_loss, pmf.test_mse)\n",
    "plt.plot(pmf.train_loss)\n",
    "plt.plot(pmf.test_loss)\n",
    "plt.plot(pmf.test_mse)\n",
    "\n",
    "plt.ylabel('loss')\n",
    "plt.show()"
   ]
  }
 ],
 "metadata": {
  "kernelspec": {
   "display_name": "Python 3",
   "language": "python",
   "name": "python3"
  },
  "language_info": {
   "codemirror_mode": {
    "name": "ipython",
    "version": 3
   },
   "file_extension": ".py",
   "mimetype": "text/x-python",
   "name": "python",
   "nbconvert_exporter": "python",
   "pygments_lexer": "ipython3",
   "version": "3.7.6"
  }
 },
 "nbformat": 4,
 "nbformat_minor": 2
}
